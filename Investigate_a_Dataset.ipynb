{
 "cells": [
  {
   "cell_type": "markdown",
   "metadata": {},
   "source": [
    "# Udacity Data Analyst Nanodegree\n",
    "# Project: No-Show Appointments Analysis\n",
    "\n",
    "## Table of Contents\n",
    "- [Introduction](#Introduction)\n",
    "- [Data Wrangling](#Data-Wrangling)\n",
    "- [Exploratory Data Analysis](#Exploratory-Data-Analysis)\n",
    "- [Conclusions](#Conclusions)"
   ]
  },
  {
   "cell_type": "markdown",
   "metadata": {},
   "source": [
    "---\n",
    "## Introduction\n",
    "\n",
    "### Dataset Description \n",
    "\n",
    "The No-Show Appointments dataset includes data related to 100k medical appointments in Brazil.  \n",
    "The dataset can be used to examine what factors may influece if a patient does or does not attend their medical appointment.\n",
    "\n",
    "Source: https://www.kaggle.com/datasets/joniarroba/noshowappointments\n",
    "\n",
    "Columns:\n",
    " - PatientId: unique identifier for patient\n",
    " - AppointmentID: unique identifier for appointment\t\n",
    " - Gender: patient's gender\t\n",
    " - ScheduledDay: on what day the patient set up their appointment\t\n",
    " - AppointmentDay: on what day the patient will attend their appointment\t\n",
    " - Age: patient's age\t\n",
    " - Neighbourhood: indicates the location of the hospital\t\n",
    " - Scholarship: indicates if patient is enrolled in Brasilian welfare program Bolsa Família\n",
    " - Hipertension: indicates if patient has hypertension\t\n",
    " - Diabetes: indicates if patient has diabetes\n",
    " - Alcoholism: indicates if patient suffers from alcoholism\n",
    " - Handcap: indicates if patient has a disability\n",
    " - SMS_received: indicates if patient received a text\t\n",
    " - No-show: ‘No’ if the patient showed up to their appointment, ‘Yes’ if they did not show up\n",
    "\n",
    "\n",
    "### Question(s) for Analysis\n",
    "\n",
    "1. Do no-show appointments occur more often during certain months than others?\n",
    "2. Do no-show appointment occur more often in some neighborhoods than others?\n",
    "3. Does the text message reminder influence if the patient attends the appointment?\n"
   ]
  },
  {
   "cell_type": "code",
   "execution_count": 1,
   "metadata": {
    "tags": []
   },
   "outputs": [],
   "source": [
    "# import \n",
    "import matplotlib.pyplot as plt\n",
    "import numpy as np\n",
    "import pandas as pd\n",
    "\n",
    "# 'magic word' so visualizations are plotted inline  \n",
    "%matplotlib inline"
   ]
  },
  {
   "cell_type": "markdown",
   "metadata": {},
   "source": [
    "---\n",
    "## Data Wrangling"
   ]
  },
  {
   "cell_type": "code",
   "execution_count": 2,
   "metadata": {
    "tags": []
   },
   "outputs": [
    {
     "data": {
      "text/html": [
       "<div>\n",
       "<style scoped>\n",
       "    .dataframe tbody tr th:only-of-type {\n",
       "        vertical-align: middle;\n",
       "    }\n",
       "\n",
       "    .dataframe tbody tr th {\n",
       "        vertical-align: top;\n",
       "    }\n",
       "\n",
       "    .dataframe thead th {\n",
       "        text-align: right;\n",
       "    }\n",
       "</style>\n",
       "<table border=\"1\" class=\"dataframe\">\n",
       "  <thead>\n",
       "    <tr style=\"text-align: right;\">\n",
       "      <th></th>\n",
       "      <th>PatientId</th>\n",
       "      <th>AppointmentID</th>\n",
       "      <th>Gender</th>\n",
       "      <th>ScheduledDay</th>\n",
       "      <th>AppointmentDay</th>\n",
       "      <th>Age</th>\n",
       "      <th>Neighbourhood</th>\n",
       "      <th>Scholarship</th>\n",
       "      <th>Hipertension</th>\n",
       "      <th>Diabetes</th>\n",
       "      <th>Alcoholism</th>\n",
       "      <th>Handcap</th>\n",
       "      <th>SMS_received</th>\n",
       "      <th>No-show</th>\n",
       "    </tr>\n",
       "  </thead>\n",
       "  <tbody>\n",
       "    <tr>\n",
       "      <th>0</th>\n",
       "      <td>2.987250e+13</td>\n",
       "      <td>5642903</td>\n",
       "      <td>F</td>\n",
       "      <td>2016-04-29T18:38:08Z</td>\n",
       "      <td>2016-04-29T00:00:00Z</td>\n",
       "      <td>62</td>\n",
       "      <td>JARDIM DA PENHA</td>\n",
       "      <td>0</td>\n",
       "      <td>1</td>\n",
       "      <td>0</td>\n",
       "      <td>0</td>\n",
       "      <td>0</td>\n",
       "      <td>0</td>\n",
       "      <td>No</td>\n",
       "    </tr>\n",
       "    <tr>\n",
       "      <th>1</th>\n",
       "      <td>5.589978e+14</td>\n",
       "      <td>5642503</td>\n",
       "      <td>M</td>\n",
       "      <td>2016-04-29T16:08:27Z</td>\n",
       "      <td>2016-04-29T00:00:00Z</td>\n",
       "      <td>56</td>\n",
       "      <td>JARDIM DA PENHA</td>\n",
       "      <td>0</td>\n",
       "      <td>0</td>\n",
       "      <td>0</td>\n",
       "      <td>0</td>\n",
       "      <td>0</td>\n",
       "      <td>0</td>\n",
       "      <td>No</td>\n",
       "    </tr>\n",
       "    <tr>\n",
       "      <th>2</th>\n",
       "      <td>4.262962e+12</td>\n",
       "      <td>5642549</td>\n",
       "      <td>F</td>\n",
       "      <td>2016-04-29T16:19:04Z</td>\n",
       "      <td>2016-04-29T00:00:00Z</td>\n",
       "      <td>62</td>\n",
       "      <td>MATA DA PRAIA</td>\n",
       "      <td>0</td>\n",
       "      <td>0</td>\n",
       "      <td>0</td>\n",
       "      <td>0</td>\n",
       "      <td>0</td>\n",
       "      <td>0</td>\n",
       "      <td>No</td>\n",
       "    </tr>\n",
       "    <tr>\n",
       "      <th>3</th>\n",
       "      <td>8.679512e+11</td>\n",
       "      <td>5642828</td>\n",
       "      <td>F</td>\n",
       "      <td>2016-04-29T17:29:31Z</td>\n",
       "      <td>2016-04-29T00:00:00Z</td>\n",
       "      <td>8</td>\n",
       "      <td>PONTAL DE CAMBURI</td>\n",
       "      <td>0</td>\n",
       "      <td>0</td>\n",
       "      <td>0</td>\n",
       "      <td>0</td>\n",
       "      <td>0</td>\n",
       "      <td>0</td>\n",
       "      <td>No</td>\n",
       "    </tr>\n",
       "    <tr>\n",
       "      <th>4</th>\n",
       "      <td>8.841186e+12</td>\n",
       "      <td>5642494</td>\n",
       "      <td>F</td>\n",
       "      <td>2016-04-29T16:07:23Z</td>\n",
       "      <td>2016-04-29T00:00:00Z</td>\n",
       "      <td>56</td>\n",
       "      <td>JARDIM DA PENHA</td>\n",
       "      <td>0</td>\n",
       "      <td>1</td>\n",
       "      <td>1</td>\n",
       "      <td>0</td>\n",
       "      <td>0</td>\n",
       "      <td>0</td>\n",
       "      <td>No</td>\n",
       "    </tr>\n",
       "  </tbody>\n",
       "</table>\n",
       "</div>"
      ],
      "text/plain": [
       "      PatientId  AppointmentID Gender          ScheduledDay   \n",
       "0  2.987250e+13        5642903      F  2016-04-29T18:38:08Z  \\\n",
       "1  5.589978e+14        5642503      M  2016-04-29T16:08:27Z   \n",
       "2  4.262962e+12        5642549      F  2016-04-29T16:19:04Z   \n",
       "3  8.679512e+11        5642828      F  2016-04-29T17:29:31Z   \n",
       "4  8.841186e+12        5642494      F  2016-04-29T16:07:23Z   \n",
       "\n",
       "         AppointmentDay  Age      Neighbourhood  Scholarship  Hipertension   \n",
       "0  2016-04-29T00:00:00Z   62    JARDIM DA PENHA            0             1  \\\n",
       "1  2016-04-29T00:00:00Z   56    JARDIM DA PENHA            0             0   \n",
       "2  2016-04-29T00:00:00Z   62      MATA DA PRAIA            0             0   \n",
       "3  2016-04-29T00:00:00Z    8  PONTAL DE CAMBURI            0             0   \n",
       "4  2016-04-29T00:00:00Z   56    JARDIM DA PENHA            0             1   \n",
       "\n",
       "   Diabetes  Alcoholism  Handcap  SMS_received No-show  \n",
       "0         0           0        0             0      No  \n",
       "1         0           0        0             0      No  \n",
       "2         0           0        0             0      No  \n",
       "3         0           0        0             0      No  \n",
       "4         1           0        0             0      No  "
      ]
     },
     "metadata": {},
     "output_type": "display_data"
    },
    {
     "name": "stdout",
     "output_type": "stream",
     "text": [
      "<class 'pandas.core.frame.DataFrame'>\n",
      "RangeIndex: 110527 entries, 0 to 110526\n",
      "Data columns (total 14 columns):\n",
      " #   Column          Non-Null Count   Dtype  \n",
      "---  ------          --------------   -----  \n",
      " 0   PatientId       110527 non-null  float64\n",
      " 1   AppointmentID   110527 non-null  int64  \n",
      " 2   Gender          110527 non-null  object \n",
      " 3   ScheduledDay    110527 non-null  object \n",
      " 4   AppointmentDay  110527 non-null  object \n",
      " 5   Age             110527 non-null  int64  \n",
      " 6   Neighbourhood   110527 non-null  object \n",
      " 7   Scholarship     110527 non-null  int64  \n",
      " 8   Hipertension    110527 non-null  int64  \n",
      " 9   Diabetes        110527 non-null  int64  \n",
      " 10  Alcoholism      110527 non-null  int64  \n",
      " 11  Handcap         110527 non-null  int64  \n",
      " 12  SMS_received    110527 non-null  int64  \n",
      " 13  No-show         110527 non-null  object \n",
      "dtypes: float64(1), int64(8), object(5)\n",
      "memory usage: 11.8+ MB\n"
     ]
    },
    {
     "data": {
      "text/plain": [
       "None"
      ]
     },
     "metadata": {},
     "output_type": "display_data"
    },
    {
     "name": "stdout",
     "output_type": "stream",
     "text": [
      "['JARDIM DA PENHA' 'MATA DA PRAIA' 'PONTAL DE CAMBURI' 'REPÚBLICA'\n",
      " 'GOIABEIRAS' 'ANDORINHAS' 'CONQUISTA' 'NOVA PALESTINA' 'DA PENHA'\n",
      " 'TABUAZEIRO' 'BENTO FERREIRA' 'SÃO PEDRO' 'SANTA MARTHA' 'SÃO CRISTÓVÃO'\n",
      " 'MARUÍPE' 'GRANDE VITÓRIA' 'SÃO BENEDITO' 'ILHA DAS CAIEIRAS'\n",
      " 'SANTO ANDRÉ' 'SOLON BORGES' 'BONFIM' 'JARDIM CAMBURI' 'MARIA ORTIZ'\n",
      " 'JABOUR' 'ANTÔNIO HONÓRIO' 'RESISTÊNCIA' 'ILHA DE SANTA MARIA'\n",
      " 'JUCUTUQUARA' 'MONTE BELO' 'MÁRIO CYPRESTE' 'SANTO ANTÔNIO' 'BELA VISTA'\n",
      " 'PRAIA DO SUÁ' 'SANTA HELENA' 'ITARARÉ' 'INHANGUETÁ' 'UNIVERSITÁRIO'\n",
      " 'SÃO JOSÉ' 'REDENÇÃO' 'SANTA CLARA' 'CENTRO' 'PARQUE MOSCOSO'\n",
      " 'DO MOSCOSO' 'SANTOS DUMONT' 'CARATOÍRA' 'ARIOVALDO FAVALESSA'\n",
      " 'ILHA DO FRADE' 'GURIGICA' 'JOANA D´ARC' 'CONSOLAÇÃO' 'PRAIA DO CANTO'\n",
      " 'BOA VISTA' 'MORADA DE CAMBURI' 'SANTA LUÍZA' 'SANTA LÚCIA'\n",
      " 'BARRO VERMELHO' 'ESTRELINHA' 'FORTE SÃO JOÃO' 'FONTE GRANDE'\n",
      " 'ENSEADA DO SUÁ' 'SANTOS REIS' 'PIEDADE' 'JESUS DE NAZARETH'\n",
      " 'SANTA TEREZA' 'CRUZAMENTO' 'ILHA DO PRÍNCIPE' 'ROMÃO' 'COMDUSA'\n",
      " 'SANTA CECÍLIA' 'VILA RUBIM' 'DE LOURDES' 'DO QUADRO' 'DO CABRAL' 'HORTO'\n",
      " 'SEGURANÇA DO LAR' 'ILHA DO BOI' 'FRADINHOS' 'NAZARETH' 'AEROPORTO'\n",
      " 'ILHAS OCEÂNICAS DE TRINDADE' 'PARQUE INDUSTRIAL']\n"
     ]
    }
   ],
   "source": [
    "# Load your data and print out a few lines. Perform operations to inspect data\n",
    "#   types and look for instances of missing or possibly errant data.\n",
    "\n",
    "# read the data to a dataframe\n",
    "df = pd.read_csv(\"noshowappointments-kagglev2-may-2016.csv\")\n",
    "\n",
    "# view some rows of data\n",
    "display(df.head())\n",
    "\n",
    "# get column types and counts\n",
    "display(df.info())\n",
    "\n",
    "# view distinct neighborhoods\n",
    "print(df['Neighbourhood'].unique())"
   ]
  },
  {
   "cell_type": "markdown",
   "metadata": {},
   "source": [
    "\n",
    "### Data Cleaning\n",
    "\n",
    "Issues Identified:\n",
    "1. Convert ScheduledDay from object to datetime64\n",
    "2. Convert AppointmentDay from object to datetime64\n",
    "3. Show the full PatientId instead of scientific notation\n",
    "4. Change the column name of \"Handcap\" to \"Disabled\"\n",
    "5. Change the column name of \"Hipertension\" to \"Hypertension\"\n",
    "6. Change SMS_cleaned to yes or no values\n"
   ]
  },
  {
   "cell_type": "markdown",
   "metadata": {},
   "source": [
    "#### Make a copy of the dataframe"
   ]
  },
  {
   "cell_type": "code",
   "execution_count": 3,
   "metadata": {
    "tags": []
   },
   "outputs": [],
   "source": [
    "df_clean = df"
   ]
  },
  {
   "cell_type": "markdown",
   "metadata": {},
   "source": [
    "#### Issue 1: Convert ScheduledDay from object to datetime64"
   ]
  },
  {
   "cell_type": "code",
   "execution_count": 4,
   "metadata": {
    "tags": []
   },
   "outputs": [
    {
     "data": {
      "text/plain": [
       "0   2016-04-29 18:38:08+00:00\n",
       "1   2016-04-29 16:08:27+00:00\n",
       "2   2016-04-29 16:19:04+00:00\n",
       "3   2016-04-29 17:29:31+00:00\n",
       "4   2016-04-29 16:07:23+00:00\n",
       "Name: ScheduledDay, dtype: datetime64[ns, UTC]"
      ]
     },
     "metadata": {},
     "output_type": "display_data"
    }
   ],
   "source": [
    "df_clean[\"ScheduledDay\"] = pd.to_datetime(df_clean[\"ScheduledDay\"])\n",
    "display(df_clean[\"ScheduledDay\"].head())"
   ]
  },
  {
   "cell_type": "markdown",
   "metadata": {},
   "source": [
    "#### Issue 2: Convert AppointmentDay from object to datetime64 and add month-year column"
   ]
  },
  {
   "cell_type": "code",
   "execution_count": 5,
   "metadata": {
    "tags": []
   },
   "outputs": [
    {
     "data": {
      "text/html": [
       "<div>\n",
       "<style scoped>\n",
       "    .dataframe tbody tr th:only-of-type {\n",
       "        vertical-align: middle;\n",
       "    }\n",
       "\n",
       "    .dataframe tbody tr th {\n",
       "        vertical-align: top;\n",
       "    }\n",
       "\n",
       "    .dataframe thead th {\n",
       "        text-align: right;\n",
       "    }\n",
       "</style>\n",
       "<table border=\"1\" class=\"dataframe\">\n",
       "  <thead>\n",
       "    <tr style=\"text-align: right;\">\n",
       "      <th></th>\n",
       "      <th>AppointmentDay</th>\n",
       "      <th>ApptMonthYr</th>\n",
       "    </tr>\n",
       "  </thead>\n",
       "  <tbody>\n",
       "    <tr>\n",
       "      <th>0</th>\n",
       "      <td>2016-04-29</td>\n",
       "      <td>2016-04</td>\n",
       "    </tr>\n",
       "    <tr>\n",
       "      <th>1</th>\n",
       "      <td>2016-04-29</td>\n",
       "      <td>2016-04</td>\n",
       "    </tr>\n",
       "    <tr>\n",
       "      <th>2</th>\n",
       "      <td>2016-04-29</td>\n",
       "      <td>2016-04</td>\n",
       "    </tr>\n",
       "    <tr>\n",
       "      <th>3</th>\n",
       "      <td>2016-04-29</td>\n",
       "      <td>2016-04</td>\n",
       "    </tr>\n",
       "    <tr>\n",
       "      <th>4</th>\n",
       "      <td>2016-04-29</td>\n",
       "      <td>2016-04</td>\n",
       "    </tr>\n",
       "  </tbody>\n",
       "</table>\n",
       "</div>"
      ],
      "text/plain": [
       "  AppointmentDay ApptMonthYr\n",
       "0     2016-04-29     2016-04\n",
       "1     2016-04-29     2016-04\n",
       "2     2016-04-29     2016-04\n",
       "3     2016-04-29     2016-04\n",
       "4     2016-04-29     2016-04"
      ]
     },
     "metadata": {},
     "output_type": "display_data"
    }
   ],
   "source": [
    "df_clean[\"AppointmentDay\"] = pd.to_datetime(df_clean[\"AppointmentDay\"]).dt.date\n",
    "df_clean[\"ApptMonthYr\"] = pd.to_datetime(df_clean[\"AppointmentDay\"]).dt.to_period('M')\n",
    "display(df_clean[[\"AppointmentDay\",\"ApptMonthYr\"]].head())"
   ]
  },
  {
   "cell_type": "markdown",
   "metadata": {},
   "source": [
    "#### Issue 3: Show the full PatientId instead of scientific notation"
   ]
  },
  {
   "cell_type": "code",
   "execution_count": 6,
   "metadata": {
    "tags": []
   },
   "outputs": [
    {
     "data": {
      "text/html": [
       "<div>\n",
       "<style scoped>\n",
       "    .dataframe tbody tr th:only-of-type {\n",
       "        vertical-align: middle;\n",
       "    }\n",
       "\n",
       "    .dataframe tbody tr th {\n",
       "        vertical-align: top;\n",
       "    }\n",
       "\n",
       "    .dataframe thead th {\n",
       "        text-align: right;\n",
       "    }\n",
       "</style>\n",
       "<table border=\"1\" class=\"dataframe\">\n",
       "  <thead>\n",
       "    <tr style=\"text-align: right;\">\n",
       "      <th></th>\n",
       "      <th>PatientId</th>\n",
       "    </tr>\n",
       "  </thead>\n",
       "  <tbody>\n",
       "    <tr>\n",
       "      <th>0</th>\n",
       "      <td>29872499824296</td>\n",
       "    </tr>\n",
       "    <tr>\n",
       "      <th>1</th>\n",
       "      <td>558997776694438</td>\n",
       "    </tr>\n",
       "    <tr>\n",
       "      <th>2</th>\n",
       "      <td>4262962299951</td>\n",
       "    </tr>\n",
       "    <tr>\n",
       "      <th>3</th>\n",
       "      <td>867951213174</td>\n",
       "    </tr>\n",
       "    <tr>\n",
       "      <th>4</th>\n",
       "      <td>8841186448183</td>\n",
       "    </tr>\n",
       "  </tbody>\n",
       "</table>\n",
       "</div>"
      ],
      "text/plain": [
       "        PatientId\n",
       "0  29872499824296\n",
       "1 558997776694438\n",
       "2   4262962299951\n",
       "3    867951213174\n",
       "4   8841186448183"
      ]
     },
     "metadata": {},
     "output_type": "display_data"
    }
   ],
   "source": [
    "pd.options.display.float_format = '{:.0f}'.format\n",
    "display(df_clean[[\"PatientId\"]].head())"
   ]
  },
  {
   "cell_type": "markdown",
   "metadata": {},
   "source": [
    "#### Issue 4. Change the column name of \"Handcap\" to \"Disabled\""
   ]
  },
  {
   "cell_type": "code",
   "execution_count": 7,
   "metadata": {
    "tags": []
   },
   "outputs": [
    {
     "name": "stdout",
     "output_type": "stream",
     "text": [
      "<class 'pandas.core.frame.DataFrame'>\n",
      "RangeIndex: 110527 entries, 0 to 110526\n",
      "Data columns (total 15 columns):\n",
      " #   Column          Non-Null Count   Dtype              \n",
      "---  ------          --------------   -----              \n",
      " 0   PatientId       110527 non-null  float64            \n",
      " 1   AppointmentID   110527 non-null  int64              \n",
      " 2   Gender          110527 non-null  object             \n",
      " 3   ScheduledDay    110527 non-null  datetime64[ns, UTC]\n",
      " 4   AppointmentDay  110527 non-null  object             \n",
      " 5   Age             110527 non-null  int64              \n",
      " 6   Neighbourhood   110527 non-null  object             \n",
      " 7   Scholarship     110527 non-null  int64              \n",
      " 8   Hipertension    110527 non-null  int64              \n",
      " 9   Diabetes        110527 non-null  int64              \n",
      " 10  Alcoholism      110527 non-null  int64              \n",
      " 11  Disabled        110527 non-null  int64              \n",
      " 12  SMS_received    110527 non-null  int64              \n",
      " 13  No-show         110527 non-null  object             \n",
      " 14  ApptMonthYr     110527 non-null  period[M]          \n",
      "dtypes: datetime64[ns, UTC](1), float64(1), int64(8), object(4), period[M](1)\n",
      "memory usage: 12.6+ MB\n"
     ]
    },
    {
     "data": {
      "text/plain": [
       "None"
      ]
     },
     "metadata": {},
     "output_type": "display_data"
    }
   ],
   "source": [
    "df_clean.rename({'Handcap':'Disabled'}, axis='columns', inplace=True)\n",
    "display(df_clean.info())"
   ]
  },
  {
   "cell_type": "markdown",
   "metadata": {},
   "source": [
    "#### Issue 5. Change the column name of \"Hipertension\" to \"Hypertension\""
   ]
  },
  {
   "cell_type": "code",
   "execution_count": 8,
   "metadata": {
    "tags": []
   },
   "outputs": [
    {
     "name": "stdout",
     "output_type": "stream",
     "text": [
      "<class 'pandas.core.frame.DataFrame'>\n",
      "RangeIndex: 110527 entries, 0 to 110526\n",
      "Data columns (total 15 columns):\n",
      " #   Column          Non-Null Count   Dtype              \n",
      "---  ------          --------------   -----              \n",
      " 0   PatientId       110527 non-null  float64            \n",
      " 1   AppointmentID   110527 non-null  int64              \n",
      " 2   Gender          110527 non-null  object             \n",
      " 3   ScheduledDay    110527 non-null  datetime64[ns, UTC]\n",
      " 4   AppointmentDay  110527 non-null  object             \n",
      " 5   Age             110527 non-null  int64              \n",
      " 6   Neighbourhood   110527 non-null  object             \n",
      " 7   Scholarship     110527 non-null  int64              \n",
      " 8   Hypertension    110527 non-null  int64              \n",
      " 9   Diabetes        110527 non-null  int64              \n",
      " 10  Alcoholism      110527 non-null  int64              \n",
      " 11  Disabled        110527 non-null  int64              \n",
      " 12  SMS_received    110527 non-null  int64              \n",
      " 13  No-show         110527 non-null  object             \n",
      " 14  ApptMonthYr     110527 non-null  period[M]          \n",
      "dtypes: datetime64[ns, UTC](1), float64(1), int64(8), object(4), period[M](1)\n",
      "memory usage: 12.6+ MB\n"
     ]
    },
    {
     "data": {
      "text/plain": [
       "None"
      ]
     },
     "metadata": {},
     "output_type": "display_data"
    }
   ],
   "source": [
    "df_clean.rename({'Hipertension':'Hypertension'}, axis='columns', inplace=True)\n",
    "display(df_clean.info())"
   ]
  },
  {
   "cell_type": "markdown",
   "metadata": {},
   "source": [
    "#### Issue 6. Change SMS_cleaned to yes or no values"
   ]
  },
  {
   "cell_type": "code",
   "execution_count": 9,
   "metadata": {
    "tags": []
   },
   "outputs": [
    {
     "data": {
      "text/html": [
       "<div>\n",
       "<style scoped>\n",
       "    .dataframe tbody tr th:only-of-type {\n",
       "        vertical-align: middle;\n",
       "    }\n",
       "\n",
       "    .dataframe tbody tr th {\n",
       "        vertical-align: top;\n",
       "    }\n",
       "\n",
       "    .dataframe thead th {\n",
       "        text-align: right;\n",
       "    }\n",
       "</style>\n",
       "<table border=\"1\" class=\"dataframe\">\n",
       "  <thead>\n",
       "    <tr style=\"text-align: right;\">\n",
       "      <th></th>\n",
       "      <th>PatientId</th>\n",
       "      <th>AppointmentID</th>\n",
       "      <th>Gender</th>\n",
       "      <th>ScheduledDay</th>\n",
       "      <th>AppointmentDay</th>\n",
       "      <th>Age</th>\n",
       "      <th>Neighbourhood</th>\n",
       "      <th>Scholarship</th>\n",
       "      <th>Hypertension</th>\n",
       "      <th>Diabetes</th>\n",
       "      <th>Alcoholism</th>\n",
       "      <th>Disabled</th>\n",
       "      <th>SMS_received</th>\n",
       "      <th>No-show</th>\n",
       "      <th>ApptMonthYr</th>\n",
       "      <th>SMS_received_yn</th>\n",
       "    </tr>\n",
       "  </thead>\n",
       "  <tbody>\n",
       "    <tr>\n",
       "      <th>0</th>\n",
       "      <td>29872499824296</td>\n",
       "      <td>5642903</td>\n",
       "      <td>F</td>\n",
       "      <td>2016-04-29 18:38:08+00:00</td>\n",
       "      <td>2016-04-29</td>\n",
       "      <td>62</td>\n",
       "      <td>JARDIM DA PENHA</td>\n",
       "      <td>0</td>\n",
       "      <td>1</td>\n",
       "      <td>0</td>\n",
       "      <td>0</td>\n",
       "      <td>0</td>\n",
       "      <td>0</td>\n",
       "      <td>No</td>\n",
       "      <td>2016-04</td>\n",
       "      <td>No</td>\n",
       "    </tr>\n",
       "    <tr>\n",
       "      <th>1</th>\n",
       "      <td>558997776694438</td>\n",
       "      <td>5642503</td>\n",
       "      <td>M</td>\n",
       "      <td>2016-04-29 16:08:27+00:00</td>\n",
       "      <td>2016-04-29</td>\n",
       "      <td>56</td>\n",
       "      <td>JARDIM DA PENHA</td>\n",
       "      <td>0</td>\n",
       "      <td>0</td>\n",
       "      <td>0</td>\n",
       "      <td>0</td>\n",
       "      <td>0</td>\n",
       "      <td>0</td>\n",
       "      <td>No</td>\n",
       "      <td>2016-04</td>\n",
       "      <td>No</td>\n",
       "    </tr>\n",
       "    <tr>\n",
       "      <th>2</th>\n",
       "      <td>4262962299951</td>\n",
       "      <td>5642549</td>\n",
       "      <td>F</td>\n",
       "      <td>2016-04-29 16:19:04+00:00</td>\n",
       "      <td>2016-04-29</td>\n",
       "      <td>62</td>\n",
       "      <td>MATA DA PRAIA</td>\n",
       "      <td>0</td>\n",
       "      <td>0</td>\n",
       "      <td>0</td>\n",
       "      <td>0</td>\n",
       "      <td>0</td>\n",
       "      <td>0</td>\n",
       "      <td>No</td>\n",
       "      <td>2016-04</td>\n",
       "      <td>No</td>\n",
       "    </tr>\n",
       "    <tr>\n",
       "      <th>3</th>\n",
       "      <td>867951213174</td>\n",
       "      <td>5642828</td>\n",
       "      <td>F</td>\n",
       "      <td>2016-04-29 17:29:31+00:00</td>\n",
       "      <td>2016-04-29</td>\n",
       "      <td>8</td>\n",
       "      <td>PONTAL DE CAMBURI</td>\n",
       "      <td>0</td>\n",
       "      <td>0</td>\n",
       "      <td>0</td>\n",
       "      <td>0</td>\n",
       "      <td>0</td>\n",
       "      <td>0</td>\n",
       "      <td>No</td>\n",
       "      <td>2016-04</td>\n",
       "      <td>No</td>\n",
       "    </tr>\n",
       "    <tr>\n",
       "      <th>4</th>\n",
       "      <td>8841186448183</td>\n",
       "      <td>5642494</td>\n",
       "      <td>F</td>\n",
       "      <td>2016-04-29 16:07:23+00:00</td>\n",
       "      <td>2016-04-29</td>\n",
       "      <td>56</td>\n",
       "      <td>JARDIM DA PENHA</td>\n",
       "      <td>0</td>\n",
       "      <td>1</td>\n",
       "      <td>1</td>\n",
       "      <td>0</td>\n",
       "      <td>0</td>\n",
       "      <td>0</td>\n",
       "      <td>No</td>\n",
       "      <td>2016-04</td>\n",
       "      <td>No</td>\n",
       "    </tr>\n",
       "  </tbody>\n",
       "</table>\n",
       "</div>"
      ],
      "text/plain": [
       "        PatientId  AppointmentID Gender              ScheduledDay   \n",
       "0  29872499824296        5642903      F 2016-04-29 18:38:08+00:00  \\\n",
       "1 558997776694438        5642503      M 2016-04-29 16:08:27+00:00   \n",
       "2   4262962299951        5642549      F 2016-04-29 16:19:04+00:00   \n",
       "3    867951213174        5642828      F 2016-04-29 17:29:31+00:00   \n",
       "4   8841186448183        5642494      F 2016-04-29 16:07:23+00:00   \n",
       "\n",
       "  AppointmentDay  Age      Neighbourhood  Scholarship  Hypertension  Diabetes   \n",
       "0     2016-04-29   62    JARDIM DA PENHA            0             1         0  \\\n",
       "1     2016-04-29   56    JARDIM DA PENHA            0             0         0   \n",
       "2     2016-04-29   62      MATA DA PRAIA            0             0         0   \n",
       "3     2016-04-29    8  PONTAL DE CAMBURI            0             0         0   \n",
       "4     2016-04-29   56    JARDIM DA PENHA            0             1         1   \n",
       "\n",
       "   Alcoholism  Disabled  SMS_received No-show ApptMonthYr SMS_received_yn  \n",
       "0           0         0             0      No     2016-04              No  \n",
       "1           0         0             0      No     2016-04              No  \n",
       "2           0         0             0      No     2016-04              No  \n",
       "3           0         0             0      No     2016-04              No  \n",
       "4           0         0             0      No     2016-04              No  "
      ]
     },
     "metadata": {},
     "output_type": "display_data"
    }
   ],
   "source": [
    "df_clean['SMS_received_yn'] = np.where(df_clean['SMS_received'] == 0, 'No', 'Yes')\n",
    "display(df_clean.head())"
   ]
  },
  {
   "cell_type": "markdown",
   "metadata": {},
   "source": [
    "---\n",
    "## Exploratory Data Analysis\n",
    "\n",
    "Questions: \n",
    "\n",
    "Q1: Do no-show appointments occur more often during certain months than others?  \n",
    "Q2: Does the text message reminder influence if the patient attends the appointment?  \n",
    "Q3: What percentage of total appointments were no-show appointments?  "
   ]
  },
  {
   "cell_type": "markdown",
   "metadata": {},
   "source": [
    "#### Create values for attended and no-shows"
   ]
  },
  {
   "cell_type": "code",
   "execution_count": 10,
   "metadata": {
    "tags": []
   },
   "outputs": [
    {
     "data": {
      "text/html": [
       "<div>\n",
       "<style scoped>\n",
       "    .dataframe tbody tr th:only-of-type {\n",
       "        vertical-align: middle;\n",
       "    }\n",
       "\n",
       "    .dataframe tbody tr th {\n",
       "        vertical-align: top;\n",
       "    }\n",
       "\n",
       "    .dataframe thead th {\n",
       "        text-align: right;\n",
       "    }\n",
       "</style>\n",
       "<table border=\"1\" class=\"dataframe\">\n",
       "  <thead>\n",
       "    <tr style=\"text-align: right;\">\n",
       "      <th></th>\n",
       "      <th>PatientId</th>\n",
       "      <th>AppointmentID</th>\n",
       "      <th>Gender</th>\n",
       "      <th>ScheduledDay</th>\n",
       "      <th>AppointmentDay</th>\n",
       "      <th>Age</th>\n",
       "      <th>Neighbourhood</th>\n",
       "      <th>Scholarship</th>\n",
       "      <th>Hypertension</th>\n",
       "      <th>Diabetes</th>\n",
       "      <th>Alcoholism</th>\n",
       "      <th>Disabled</th>\n",
       "      <th>SMS_received</th>\n",
       "      <th>No-show</th>\n",
       "      <th>ApptMonthYr</th>\n",
       "      <th>SMS_received_yn</th>\n",
       "    </tr>\n",
       "  </thead>\n",
       "  <tbody>\n",
       "    <tr>\n",
       "      <th>0</th>\n",
       "      <td>29872499824296</td>\n",
       "      <td>5642903</td>\n",
       "      <td>F</td>\n",
       "      <td>2016-04-29 18:38:08+00:00</td>\n",
       "      <td>2016-04-29</td>\n",
       "      <td>62</td>\n",
       "      <td>JARDIM DA PENHA</td>\n",
       "      <td>0</td>\n",
       "      <td>1</td>\n",
       "      <td>0</td>\n",
       "      <td>0</td>\n",
       "      <td>0</td>\n",
       "      <td>0</td>\n",
       "      <td>No</td>\n",
       "      <td>2016-04</td>\n",
       "      <td>No</td>\n",
       "    </tr>\n",
       "    <tr>\n",
       "      <th>1</th>\n",
       "      <td>558997776694438</td>\n",
       "      <td>5642503</td>\n",
       "      <td>M</td>\n",
       "      <td>2016-04-29 16:08:27+00:00</td>\n",
       "      <td>2016-04-29</td>\n",
       "      <td>56</td>\n",
       "      <td>JARDIM DA PENHA</td>\n",
       "      <td>0</td>\n",
       "      <td>0</td>\n",
       "      <td>0</td>\n",
       "      <td>0</td>\n",
       "      <td>0</td>\n",
       "      <td>0</td>\n",
       "      <td>No</td>\n",
       "      <td>2016-04</td>\n",
       "      <td>No</td>\n",
       "    </tr>\n",
       "    <tr>\n",
       "      <th>2</th>\n",
       "      <td>4262962299951</td>\n",
       "      <td>5642549</td>\n",
       "      <td>F</td>\n",
       "      <td>2016-04-29 16:19:04+00:00</td>\n",
       "      <td>2016-04-29</td>\n",
       "      <td>62</td>\n",
       "      <td>MATA DA PRAIA</td>\n",
       "      <td>0</td>\n",
       "      <td>0</td>\n",
       "      <td>0</td>\n",
       "      <td>0</td>\n",
       "      <td>0</td>\n",
       "      <td>0</td>\n",
       "      <td>No</td>\n",
       "      <td>2016-04</td>\n",
       "      <td>No</td>\n",
       "    </tr>\n",
       "    <tr>\n",
       "      <th>3</th>\n",
       "      <td>867951213174</td>\n",
       "      <td>5642828</td>\n",
       "      <td>F</td>\n",
       "      <td>2016-04-29 17:29:31+00:00</td>\n",
       "      <td>2016-04-29</td>\n",
       "      <td>8</td>\n",
       "      <td>PONTAL DE CAMBURI</td>\n",
       "      <td>0</td>\n",
       "      <td>0</td>\n",
       "      <td>0</td>\n",
       "      <td>0</td>\n",
       "      <td>0</td>\n",
       "      <td>0</td>\n",
       "      <td>No</td>\n",
       "      <td>2016-04</td>\n",
       "      <td>No</td>\n",
       "    </tr>\n",
       "    <tr>\n",
       "      <th>4</th>\n",
       "      <td>8841186448183</td>\n",
       "      <td>5642494</td>\n",
       "      <td>F</td>\n",
       "      <td>2016-04-29 16:07:23+00:00</td>\n",
       "      <td>2016-04-29</td>\n",
       "      <td>56</td>\n",
       "      <td>JARDIM DA PENHA</td>\n",
       "      <td>0</td>\n",
       "      <td>1</td>\n",
       "      <td>1</td>\n",
       "      <td>0</td>\n",
       "      <td>0</td>\n",
       "      <td>0</td>\n",
       "      <td>No</td>\n",
       "      <td>2016-04</td>\n",
       "      <td>No</td>\n",
       "    </tr>\n",
       "  </tbody>\n",
       "</table>\n",
       "</div>"
      ],
      "text/plain": [
       "        PatientId  AppointmentID Gender              ScheduledDay   \n",
       "0  29872499824296        5642903      F 2016-04-29 18:38:08+00:00  \\\n",
       "1 558997776694438        5642503      M 2016-04-29 16:08:27+00:00   \n",
       "2   4262962299951        5642549      F 2016-04-29 16:19:04+00:00   \n",
       "3    867951213174        5642828      F 2016-04-29 17:29:31+00:00   \n",
       "4   8841186448183        5642494      F 2016-04-29 16:07:23+00:00   \n",
       "\n",
       "  AppointmentDay  Age      Neighbourhood  Scholarship  Hypertension  Diabetes   \n",
       "0     2016-04-29   62    JARDIM DA PENHA            0             1         0  \\\n",
       "1     2016-04-29   56    JARDIM DA PENHA            0             0         0   \n",
       "2     2016-04-29   62      MATA DA PRAIA            0             0         0   \n",
       "3     2016-04-29    8  PONTAL DE CAMBURI            0             0         0   \n",
       "4     2016-04-29   56    JARDIM DA PENHA            0             1         1   \n",
       "\n",
       "   Alcoholism  Disabled  SMS_received No-show ApptMonthYr SMS_received_yn  \n",
       "0           0         0             0      No     2016-04              No  \n",
       "1           0         0             0      No     2016-04              No  \n",
       "2           0         0             0      No     2016-04              No  \n",
       "3           0         0             0      No     2016-04              No  \n",
       "4           0         0             0      No     2016-04              No  "
      ]
     },
     "metadata": {},
     "output_type": "display_data"
    },
    {
     "data": {
      "text/html": [
       "<div>\n",
       "<style scoped>\n",
       "    .dataframe tbody tr th:only-of-type {\n",
       "        vertical-align: middle;\n",
       "    }\n",
       "\n",
       "    .dataframe tbody tr th {\n",
       "        vertical-align: top;\n",
       "    }\n",
       "\n",
       "    .dataframe thead th {\n",
       "        text-align: right;\n",
       "    }\n",
       "</style>\n",
       "<table border=\"1\" class=\"dataframe\">\n",
       "  <thead>\n",
       "    <tr style=\"text-align: right;\">\n",
       "      <th></th>\n",
       "      <th>PatientId</th>\n",
       "      <th>AppointmentID</th>\n",
       "      <th>Gender</th>\n",
       "      <th>ScheduledDay</th>\n",
       "      <th>AppointmentDay</th>\n",
       "      <th>Age</th>\n",
       "      <th>Neighbourhood</th>\n",
       "      <th>Scholarship</th>\n",
       "      <th>Hypertension</th>\n",
       "      <th>Diabetes</th>\n",
       "      <th>Alcoholism</th>\n",
       "      <th>Disabled</th>\n",
       "      <th>SMS_received</th>\n",
       "      <th>No-show</th>\n",
       "      <th>ApptMonthYr</th>\n",
       "      <th>SMS_received_yn</th>\n",
       "    </tr>\n",
       "  </thead>\n",
       "  <tbody>\n",
       "    <tr>\n",
       "      <th>6</th>\n",
       "      <td>733688164476661</td>\n",
       "      <td>5630279</td>\n",
       "      <td>F</td>\n",
       "      <td>2016-04-27 15:05:12+00:00</td>\n",
       "      <td>2016-04-29</td>\n",
       "      <td>23</td>\n",
       "      <td>GOIABEIRAS</td>\n",
       "      <td>0</td>\n",
       "      <td>0</td>\n",
       "      <td>0</td>\n",
       "      <td>0</td>\n",
       "      <td>0</td>\n",
       "      <td>0</td>\n",
       "      <td>Yes</td>\n",
       "      <td>2016-04</td>\n",
       "      <td>No</td>\n",
       "    </tr>\n",
       "    <tr>\n",
       "      <th>7</th>\n",
       "      <td>3449833394123</td>\n",
       "      <td>5630575</td>\n",
       "      <td>F</td>\n",
       "      <td>2016-04-27 15:39:58+00:00</td>\n",
       "      <td>2016-04-29</td>\n",
       "      <td>39</td>\n",
       "      <td>GOIABEIRAS</td>\n",
       "      <td>0</td>\n",
       "      <td>0</td>\n",
       "      <td>0</td>\n",
       "      <td>0</td>\n",
       "      <td>0</td>\n",
       "      <td>0</td>\n",
       "      <td>Yes</td>\n",
       "      <td>2016-04</td>\n",
       "      <td>No</td>\n",
       "    </tr>\n",
       "    <tr>\n",
       "      <th>11</th>\n",
       "      <td>7542951368435</td>\n",
       "      <td>5620163</td>\n",
       "      <td>M</td>\n",
       "      <td>2016-04-26 08:44:12+00:00</td>\n",
       "      <td>2016-04-29</td>\n",
       "      <td>29</td>\n",
       "      <td>NOVA PALESTINA</td>\n",
       "      <td>0</td>\n",
       "      <td>0</td>\n",
       "      <td>0</td>\n",
       "      <td>0</td>\n",
       "      <td>0</td>\n",
       "      <td>1</td>\n",
       "      <td>Yes</td>\n",
       "      <td>2016-04</td>\n",
       "      <td>Yes</td>\n",
       "    </tr>\n",
       "    <tr>\n",
       "      <th>17</th>\n",
       "      <td>14794966191172</td>\n",
       "      <td>5633460</td>\n",
       "      <td>F</td>\n",
       "      <td>2016-04-28 09:28:57+00:00</td>\n",
       "      <td>2016-04-29</td>\n",
       "      <td>40</td>\n",
       "      <td>CONQUISTA</td>\n",
       "      <td>1</td>\n",
       "      <td>0</td>\n",
       "      <td>0</td>\n",
       "      <td>0</td>\n",
       "      <td>0</td>\n",
       "      <td>0</td>\n",
       "      <td>Yes</td>\n",
       "      <td>2016-04</td>\n",
       "      <td>No</td>\n",
       "    </tr>\n",
       "    <tr>\n",
       "      <th>20</th>\n",
       "      <td>622257462899397</td>\n",
       "      <td>5626083</td>\n",
       "      <td>F</td>\n",
       "      <td>2016-04-27 07:51:14+00:00</td>\n",
       "      <td>2016-04-29</td>\n",
       "      <td>30</td>\n",
       "      <td>NOVA PALESTINA</td>\n",
       "      <td>0</td>\n",
       "      <td>0</td>\n",
       "      <td>0</td>\n",
       "      <td>0</td>\n",
       "      <td>0</td>\n",
       "      <td>0</td>\n",
       "      <td>Yes</td>\n",
       "      <td>2016-04</td>\n",
       "      <td>No</td>\n",
       "    </tr>\n",
       "  </tbody>\n",
       "</table>\n",
       "</div>"
      ],
      "text/plain": [
       "         PatientId  AppointmentID Gender              ScheduledDay   \n",
       "6  733688164476661        5630279      F 2016-04-27 15:05:12+00:00  \\\n",
       "7    3449833394123        5630575      F 2016-04-27 15:39:58+00:00   \n",
       "11   7542951368435        5620163      M 2016-04-26 08:44:12+00:00   \n",
       "17  14794966191172        5633460      F 2016-04-28 09:28:57+00:00   \n",
       "20 622257462899397        5626083      F 2016-04-27 07:51:14+00:00   \n",
       "\n",
       "   AppointmentDay  Age   Neighbourhood  Scholarship  Hypertension  Diabetes   \n",
       "6      2016-04-29   23      GOIABEIRAS            0             0         0  \\\n",
       "7      2016-04-29   39      GOIABEIRAS            0             0         0   \n",
       "11     2016-04-29   29  NOVA PALESTINA            0             0         0   \n",
       "17     2016-04-29   40       CONQUISTA            1             0         0   \n",
       "20     2016-04-29   30  NOVA PALESTINA            0             0         0   \n",
       "\n",
       "    Alcoholism  Disabled  SMS_received No-show ApptMonthYr SMS_received_yn  \n",
       "6            0         0             0     Yes     2016-04              No  \n",
       "7            0         0             0     Yes     2016-04              No  \n",
       "11           0         0             1     Yes     2016-04             Yes  \n",
       "17           0         0             0     Yes     2016-04              No  \n",
       "20           0         0             0     Yes     2016-04              No  "
      ]
     },
     "metadata": {},
     "output_type": "display_data"
    }
   ],
   "source": [
    "# get total appts\n",
    "total_rows = df_clean.shape[0]\n",
    "\n",
    "# get attended appts\n",
    "yes_shows = df_clean[df_clean['No-show'] == 'No']\n",
    "display(yes_shows.head())\n",
    "\n",
    "# get no-show appts\n",
    "no_shows = df_clean[df_clean['No-show'] == 'Yes']\n",
    "display(no_shows.head())\n"
   ]
  },
  {
   "cell_type": "markdown",
   "metadata": {},
   "source": [
    "### Functions"
   ]
  },
  {
   "cell_type": "code",
   "execution_count": 11,
   "metadata": {
    "tags": []
   },
   "outputs": [],
   "source": [
    "def get_attended(col,agg):\n",
    "    '''get all rows where patient attended, aggregate column by count or proportion'''\n",
    "    if agg == 'count':\n",
    "        yes_vals = yes_shows[col].value_counts().sort_index(ascending=True)\n",
    "    elif agg == 'percent':    \n",
    "        yes_vals = yes_shows[col].value_counts(normalize=True).sort_index(ascending=True)        \n",
    "    return yes_vals\n",
    "\n",
    "def get_noshows(col,agg):\n",
    "    '''get all rows where patient no showed, aggregate column by count or proportion'''\n",
    "    if agg == 'count':\n",
    "        no_vals  = no_shows[col].value_counts().sort_index(ascending=True)\n",
    "    elif agg == 'percent':\n",
    "        no_vals  = no_shows[col].value_counts(normalize=True).sort_index(ascending=True)\n",
    "    return no_vals"
   ]
  },
  {
   "cell_type": "markdown",
   "metadata": {},
   "source": [
    "### Q1: Do no-show appointments occur more often during certain months than others?"
   ]
  },
  {
   "cell_type": "code",
   "execution_count": 12,
   "metadata": {
    "tags": []
   },
   "outputs": [
    {
     "data": {
      "image/png": "[encoded data removed]",
      "text/plain": [
       "<Figure size 640x480 with 1 Axes>"
      ]
     },
     "metadata": {},
     "output_type": "display_data"
    },
    {
     "name": "stdout",
     "output_type": "stream",
     "text": [
      "Total Counts by Month and Attendance\n"
     ]
    },
    {
     "data": {
      "text/plain": [
       "ApptMonthYr  No-show\n",
       "2016-04      No          2602\n",
       "             Yes          633\n",
       "2016-05      No         64037\n",
       "             Yes        16804\n",
       "2016-06      No         21569\n",
       "             Yes         4882\n",
       "Name: count, dtype: int64"
      ]
     },
     "metadata": {},
     "output_type": "display_data"
    },
    {
     "data": {
      "image/png": "[encoded data removed]",
      "text/plain": [
       "<Figure size 640x480 with 1 Axes>"
      ]
     },
     "metadata": {},
     "output_type": "display_data"
    },
    {
     "name": "stdout",
     "output_type": "stream",
     "text": [
      "Total Counts by Month and Attendance\n"
     ]
    },
    {
     "data": {
      "text/plain": [
       "ApptMonthYr  No-show\n",
       "2016-04      No        1\n",
       "             Yes       0\n",
       "2016-05      No        1\n",
       "             Yes       0\n",
       "2016-06      No        1\n",
       "             Yes       0\n",
       "Name: proportion, dtype: float64"
      ]
     },
     "metadata": {},
     "output_type": "display_data"
    }
   ],
   "source": [
    "# get months\n",
    "months = df_clean['ApptMonthYr'].astype(str)\n",
    "months = list(months.unique())\n",
    "x = months\n",
    "#print(months)\n",
    "\n",
    "# get attended and no-showed by count\n",
    "y1 = get_attended('ApptMonthYr','count')\n",
    "y2 = get_noshows('ApptMonthYr','count')\n",
    "\n",
    "# create the plot\n",
    "plt.plot(x, y1, label ='Attended')\n",
    "plt.plot(x, y2, label ='No-showed')\n",
    "\n",
    "plt.xlabel(\"Appointment Date\")\n",
    "plt.ylabel(\"# Appts\")\n",
    "plt.title(\"Appointments by Month and year\")\n",
    "plt.legend()\n",
    "plt.show()\n",
    "\n",
    "# total counts\n",
    "print(\"Total Counts by Month and Attendance\")\n",
    "display(df_clean.groupby('ApptMonthYr')['No-show'].value_counts().sort_index(ascending=True))\n",
    "\n",
    "\n",
    "# get attended and no-showed by percent\n",
    "y1 = get_attended('ApptMonthYr','percent')\n",
    "y2 = get_noshows('ApptMonthYr','percent')\n",
    "\n",
    "# create the plot\n",
    "plt.plot(x, y1, label ='Attended')\n",
    "plt.plot(x, y2, label ='No-showed')\n",
    "\n",
    "plt.xlabel(\"Appointment Date\")\n",
    "plt.ylabel(\"% Appts\")\n",
    "plt.title(\"Appointments by Month and Year\")\n",
    "plt.legend()\n",
    "plt.show()\n",
    "\n",
    "# total counts\n",
    "print(\"Total Counts by Month and Attendance\")\n",
    "display(df_clean.groupby('ApptMonthYr')['No-show'].value_counts(normalize=True).sort_index(ascending=True)) "
   ]
  },
  {
   "cell_type": "markdown",
   "metadata": {
    "tags": []
   },
   "source": [
    "- May had the highest percentage of no-shows.  \n",
    "- June had the lowest percentage of no-shows.\n",
    "\n",
    "| Apr No-show  | Number | Percent |\n",
    "| -------  | ------     | -----   |\n",
    "|     No   |   2602     | 80\n",
    "|    Yes   |   633      | 20\n",
    "|    Total |   3235     | |\n",
    "\n",
    "| May No-show  | Number |Percent  |\n",
    "| -------      | ------ |------     |\n",
    "|       No     |  64037 | 79 |\n",
    "|    Yes       |  16804 | 21 |\n",
    "|    Total     | 80,841 | |\n",
    "\n",
    "| Jun No-show  | Number |Percent  |\n",
    "| -------  | ------ |------     |\n",
    "|     No   |  21569 | 82 |\n",
    "|     Yes  |   4882 | 18 |\n",
    "|    Total | 26451  | |\n"
   ]
  },
  {
   "cell_type": "markdown",
   "metadata": {},
   "source": [
    "### Q2: Does the text message reminder influence if the patient attends the appointment?"
   ]
  },
  {
   "cell_type": "code",
   "execution_count": 13,
   "metadata": {
    "tags": []
   },
   "outputs": [
    {
     "name": "stdout",
     "output_type": "stream",
     "text": [
      "Attended Appts:\n"
     ]
    },
    {
     "data": {
      "text/plain": [
       "SMS_received_yn\n",
       "No     62510\n",
       "Yes    25698\n",
       "Name: count, dtype: int64"
      ]
     },
     "metadata": {},
     "output_type": "display_data"
    },
    {
     "name": "stdout",
     "output_type": "stream",
     "text": [
      "\n",
      "No-show Appts:\n"
     ]
    },
    {
     "data": {
      "text/plain": [
       "SMS_received_yn\n",
       "No     12535\n",
       "Yes     9784\n",
       "Name: count, dtype: int64"
      ]
     },
     "metadata": {},
     "output_type": "display_data"
    },
    {
     "data": {
      "image/png": "[encoded data removed]",
      "text/plain": [
       "<Figure size 640x480 with 1 Axes>"
      ]
     },
     "metadata": {},
     "output_type": "display_data"
    },
    {
     "name": "stdout",
     "output_type": "stream",
     "text": [
      "Attended Appts:\n"
     ]
    },
    {
     "data": {
      "text/plain": [
       "SMS_received_yn\n",
       "No    1\n",
       "Yes   0\n",
       "Name: proportion, dtype: float64"
      ]
     },
     "metadata": {},
     "output_type": "display_data"
    },
    {
     "name": "stdout",
     "output_type": "stream",
     "text": [
      "\n",
      "No-show Appts:\n"
     ]
    },
    {
     "data": {
      "text/plain": [
       "SMS_received_yn\n",
       "No    1\n",
       "Yes   0\n",
       "Name: proportion, dtype: float64"
      ]
     },
     "metadata": {},
     "output_type": "display_data"
    },
    {
     "data": {
      "image/png": "[encoded data removed]",
      "text/plain": [
       "<Figure size 640x480 with 1 Axes>"
      ]
     },
     "metadata": {},
     "output_type": "display_data"
    }
   ],
   "source": [
    "sms = list(df_clean['SMS_received_yn'].unique())\n",
    "#print(sms)\n",
    "\n",
    "# get attended and no-showed by count\n",
    "y1 = get_attended('SMS_received_yn','count')\n",
    "y2 = get_noshows('SMS_received_yn','count')\n",
    "\n",
    "print(\"Attended Appts:\")\n",
    "display(y1)\n",
    "\n",
    "print(\"\\nNo-show Appts:\")\n",
    "display(y2)\n",
    "\n",
    "# create the plot\n",
    "chart = pd.concat(\n",
    "    [\n",
    "        y1.rename('Attended'), \n",
    "        y2.rename('No-showed') \n",
    "    ],\n",
    "    axis=1,\n",
    ").plot.bar()\n",
    "chart.set_title('Appointments by SMS Received')\n",
    "chart.set_ylabel('# Appointments')\n",
    "plt.show()\n",
    "\n",
    "\n",
    "# get attended and no-showed by percent\n",
    "y1 = get_attended('SMS_received_yn','percent')\n",
    "y2 = get_noshows('SMS_received_yn','percent')\n",
    "\n",
    "print(\"Attended Appts:\")\n",
    "display(y1)\n",
    "\n",
    "print(\"\\nNo-show Appts:\")\n",
    "display(y2)\n",
    "\n",
    "# create the plot\n",
    "chart = pd.concat(\n",
    "    [\n",
    "        y1.rename('Attended'), \n",
    "        y2.rename('No-showed') \n",
    "    ],\n",
    "    axis=1,\n",
    ").plot.bar()\n",
    "chart.set_title('Appointments by SMS Received')\n",
    "chart.set_ylabel('% Appointments')\n",
    "plt.show()"
   ]
  },
  {
   "cell_type": "markdown",
   "metadata": {},
   "source": [
    "- The receipt of a SMS text message did not appear to make a positive impact on the attendance.    \n",
    "    - The no-show rate for patients who received a text was higher than when patients did not receive a text.   \n",
    "|SMS received| Attended | No-show | Total   | No-show Rate |\n",
    "| -          | -        | -       | -       | -            |\n",
    "| No         |  62,510  | 12,535  | 75,045  | 17%          |\n",
    "| Yes        |  25,698  | 9,784   | 35,482  | 28%          |\n",
    "| Total      |  88,208  | 22,319  | 110,527 | 20%          |"
   ]
  },
  {
   "cell_type": "markdown",
   "metadata": {},
   "source": [
    "### Q3: What percentage of total appointments were no-show appointments?"
   ]
  },
  {
   "cell_type": "code",
   "execution_count": 14,
   "metadata": {
    "tags": []
   },
   "outputs": [
    {
     "name": "stdout",
     "output_type": "stream",
     "text": [
      "No-show\n",
      "No    80\n",
      "Yes   20\n",
      "Name: count, dtype: float64\n"
     ]
    },
    {
     "data": {
      "image/png": "[encoded data removed]",
      "text/plain": [
       "<Figure size 640x480 with 1 Axes>"
      ]
     },
     "metadata": {},
     "output_type": "display_data"
    }
   ],
   "source": [
    "y  = ((df_clean['No-show'].value_counts()) / total_rows) * 100\n",
    "print(y)\n",
    "\n",
    "# create the plot\n",
    "lbl = [\"Attended\", \"No-showed\"]\n",
    "plt.pie(y, labels = lbl, startangle = 90, autopct='%.2f')\n",
    "plt.title('Percent of Appointments by Attendance')\n",
    "plt.show() "
   ]
  },
  {
   "cell_type": "markdown",
   "metadata": {},
   "source": [
    "- 80% of total appointments were attended\n",
    "- 20% of total appointments were no-showed"
   ]
  },
  {
   "cell_type": "markdown",
   "metadata": {},
   "source": [
    "---\n",
    "## Conclusions\n",
    "\n",
    "Analysis:\n",
    "\n",
    "- Of the 110,527 total appointments in the dataset, 20% were no-shows while the remaining 80% were attended.  \n",
    "\n",
    "<br>  \n",
    "\n",
    "- Each of the three months studied reported lower counts of no-shows than attended appointments.   \n",
    "    - May had the highest percentage of no-shows, while June had the least.  \n",
    "\n",
    "| Apr No-show  | Number | Percent |\n",
    "| -------  | ------     | -----   |\n",
    "|     No   |   2602     | 80\n",
    "|    Yes   |   633      | 20\n",
    "|    Total |   3235     | |\n",
    "\n",
    "| May No-show  | Number |Percent  |\n",
    "| -------      | ------ |------     |\n",
    "|       No     |  64037 | 79 |\n",
    "|    Yes       |  16804 | 21 |\n",
    "|    Total     | 80,841 | |\n",
    "\n",
    "| Jun No-show  | Number |Percent  |\n",
    "| -------  | ------ |------     |\n",
    "|     No   |  21569 | 82 |\n",
    "|     Yes  |   4882 | 18 |\n",
    "|    Total | 26451  | |\n",
    "    \n",
    "<br>  \n",
    "  \n",
    "- The receipt of a SMS text message did not appear to make a positive impact on the attendance.    \n",
    "    - The no-show rate for patients who received a text was higher than when patients did not receive a text.   \n",
    "|SMS received| Attended | No-show | Total   | No-show Rate |\n",
    "| -          | -        | -       | -       | -            |\n",
    "| No         |  62,510  | 12,535  | 75,045  | 17%          |\n",
    "| Yes        |  25,698  | 9,784   | 35,482  | 28%          |\n",
    "| Total      |  88,208  | 22,319  | 110,527 | 20%          |\n",
    "\n",
    "### Limitation\n",
    "\n",
    "- A limitation of this analysis is the time-period available. Because only three months were included in the dataset, it is not possible to provide an analysis representative of the entire year. Other factors may come into play such as changing seasons and weather, school attendance, or holidays, that would not have been accounted for in this dataset.\n"
   ]
  },
  {
   "cell_type": "code",
   "execution_count": null,
   "metadata": {},
   "outputs": [],
   "source": []
  },
  {
   "cell_type": "code",
   "execution_count": null,
   "metadata": {},
   "outputs": [],
   "source": []
  }
 ],
 "metadata": {
  "kernelspec": {
   "display_name": "Python 3 (ipykernel)",
   "language": "python",
   "name": "python3"
  },
  "language_info": {
   "codemirror_mode": {
    "name": "ipython",
    "version": 3
   },
   "file_extension": ".py",
   "mimetype": "text/x-python",
   "name": "python",
   "nbconvert_exporter": "python",
   "pygments_lexer": "ipython3",
   "version": "3.11.3"
  }
 },
 "nbformat": 4,
 "nbformat_minor": 4
}
